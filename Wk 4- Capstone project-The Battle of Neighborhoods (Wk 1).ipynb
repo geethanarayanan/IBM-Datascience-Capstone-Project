{
 "cells": [
  {
   "cell_type": "markdown",
   "metadata": {},
   "source": [
    "Coursera - IBM Professional Certificate  - Applied Data Science Capstone Project: "
   ]
  },
  {
   "cell_type": "markdown",
   "metadata": {},
   "source": [
    "Week 4 Assignment:"
   ]
  },
  {
   "cell_type": "markdown",
   "metadata": {},
   "source": [
    "Peer-graded Assignment: Capstone Project - The Battle of Neighborhoods (Week 1) "
   ]
  },
  {
   "cell_type": "markdown",
   "metadata": {},
   "source": [
    "Title of the project : Aerial venue locating support system"
   ]
  },
  {
   "cell_type": "markdown",
   "metadata": {},
   "source": [
    "Introduction / Background :\n",
    "Catalyst LLC is a new start-up company in Memphis, Tennessee, USA which provides support services to tourists & visitors as well as aiding to conduct personal/professional  events and functions. Inc.X has a plan to have a support system for selected option by the customer who likes to explore the city. As a small-win project, residential City of Memphis taken as a geo-location and through the coding in Python with the help of Coursera-IBM Skill lab and GitHub working out a proposal. "
   ]
  },
  {
   "cell_type": "markdown",
   "metadata": {},
   "source": [
    "About the city selected : \n",
    "MEMPHIS is a city located in Tennessee, United States of America. The city population was 650,618 in 2018.Memphis is the 26th largest city out of 314 US cities. Memphis is one of the leading commercial centers in transportation and logistics. Memphis international airport is the second busiest cargo airport in the world and the international port of Memphis is the fifth busiest inland water port in America. As on date, Memphis is a regional center for commerce, education, media, art, music and entertainment.   (Note: Two memorable places in Memphis are : 1. King of rock and roll – singer and actor Elvis Presley’s and 2. The Noble Peace Prize 1964 winner for non-violence and Leader - Martin Luther King Jr.’s.) +  (P.S) Interesting to also note that each and every FedEx air package in US goes through Memphis, though there are direct routes.   "
   ]
  },
  {
   "cell_type": "markdown",
   "metadata": {},
   "source": [
    "Objective: \n",
    "The objective of this project is to provide management and users to view list of combined  venues like food centers, cafeteria fun places, Nightlife in the selected city together with their geo-spatial data or through an aerial map to save their decision support and saving their time by avoiding one by one search.   "
   ]
  },
  {
   "cell_type": "markdown",
   "metadata": {},
   "source": [
    "Data Description: \n",
    "1. The data used in the project is obtained from FOURSQUARE API. By using Explorer, data collected for café, restaurant, fun, nightlife , etc., for multiple searches. \n",
    "Link: https://foursquare.com/        \n",
    "2. For the city data: Latitude: 35.122864,Longitude: -89.951860,Population: 729,307,Area: 391.55 sq. miles, Land: 386.69 sq. miles, Water: 4.86 sq. miles, Population Density: 1,886.02 people per sq. mile,\n",
    "Elevation: 273.0 feet above sea level .  Time Zone: Central (GMT -6)\n",
    "      Link: https://en.wikipedia.org/wiki/Memphis,_Tennessee\n",
    "https://en.wikipedia.org/wiki/List_of_neighborhoods_in_Memphis,_Tennessee\n",
    "https://en.wikipedia.org/wiki/Category:Neighborhoods_in_Memphis,_Tennessee\n",
    "https://en.wikipedia.org/wiki/List_of_United_States_cities_by_population\n",
    "https://open311.memphistn.gov/#!/view-data\n",
    "https://www.fedex.com/en-us/about/policy/aviation/why-memphis.html\n",
    "3. For Choropleth maps , geojson file of Memphis used. \n",
    "4.Python Folium library will be used to visualize the venues & allied clusters."
   ]
  },
  {
   "cell_type": "markdown",
   "metadata": {},
   "source": [
    "Methodology proposed:\n",
    "Learning from IBM Model – CRISP (Cross Industries Standard Process)  through Coursera :\n",
    "1.Business Understanding\n",
    "2.Analytic Approach\n",
    "3.Data Requirements\n",
    "4.Data Collection\n",
    "5.Data Understanding\n",
    "6.Data Preparation\n",
    "7.Modeling\n",
    "8.Evaluation\n",
    "9.Deployment\n",
    "10.Feedback\n",
    "Remember: Above 10 steps are need not to be followed strictly in a sequence (i.e) a flexible and iterative approach."
   ]
  },
  {
   "cell_type": "markdown",
   "metadata": {},
   "source": [
    "Table of Contents: Project Overview -Data Overview -Data Wrangling -FourSquare API-Exploratory Data Analysis -Clustering- Cluster Mapping using Folium- Cluster Results - Conclusion"
   ]
  },
  {
   "cell_type": "markdown",
   "metadata": {},
   "source": [
    "Coverage planned:\n",
    "Venues mapping – Food, Park, Cafeteria, Fun, Breakfast, Restaurants, Nightlife & Top picks \n",
    "The following questions are to be attempted: \n",
    "1.How many places or venues under each category?\n",
    "2. How many similar venues exist and its’ specialty ?\n",
    "3. How to get ‘Birds eye view’ of their locations ?"
   ]
  },
  {
   "cell_type": "markdown",
   "metadata": {},
   "source": [
    "Scope: \n",
    "Starting with one city – Memphis but can be deployed with multiple cities optional selection by clustering in next phase, after quick-win of the project."
   ]
  },
  {
   "cell_type": "markdown",
   "metadata": {},
   "source": [
    "Target  : \n",
    "Users includes not only of our company management person but also mainly our customers and public on need (i.e) exploring different places or similar places."
   ]
  }
 ],
 "metadata": {
  "kernelspec": {
   "display_name": "Python",
   "language": "python",
   "name": "conda-env-python-py"
  },
  "language_info": {
   "codemirror_mode": {
    "name": "ipython",
    "version": 3
   },
   "file_extension": ".py",
   "mimetype": "text/x-python",
   "name": "python",
   "nbconvert_exporter": "python",
   "pygments_lexer": "ipython3",
   "version": "3.6.10"
  }
 },
 "nbformat": 4,
 "nbformat_minor": 4
}
